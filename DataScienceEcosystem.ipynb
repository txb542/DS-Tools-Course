{
 "cells": [
  {
   "cell_type": "markdown",
   "id": "1f17099c",
   "metadata": {},
   "source": [
    "# Data Science Tools and Ecosystem"
   ]
  },
  {
   "cell_type": "markdown",
   "id": "af0695ac",
   "metadata": {},
   "source": [
    "## Author\n",
    "Tate Bestwick"
   ]
  },
  {
   "cell_type": "markdown",
   "id": "97a8d61f",
   "metadata": {},
   "source": [
    "In  this notebook, Data Science Tools and Ecosystem are summarized."
   ]
  },
  {
   "cell_type": "markdown",
   "id": "88926cf2",
   "metadata": {},
   "source": [
    "**Objectives**\n",
    "- List popular languages for Data Science\n",
    "- List libraries commonly used by Data Scientists\n",
    "- Create a table\n",
    "- List Data Science development environments\n",
    "- Demonstrate simple arithmetic using Python"
   ]
  },
  {
   "cell_type": "markdown",
   "id": "7188c579",
   "metadata": {},
   "source": [
    "Some of the popular languages are:\n",
    "1) Python\n",
    "2) R\n",
    "3) SQL (Structured Query Language)"
   ]
  },
  {
   "cell_type": "markdown",
   "id": "9480117b",
   "metadata": {},
   "source": [
    "Some of the commonly used librares used by Data Scientists include:\n",
    "1) Pandas (Python)\n",
    "2) Matplotlib (Python)\n",
    "3) Scikit-learn (Python)\n",
    "4) ggplot2 (R)"
   ]
  },
  {
   "cell_type": "markdown",
   "id": "ef22fc81",
   "metadata": {},
   "source": [
    "| Data Science Tools |\n",
    "| ------------------ |\n",
    "| Jupyter Notebook |\n",
    "| RStudio |\n",
    "| Spyder |\n",
    "| Apache Zeppelin |"
   ]
  },
  {
   "cell_type": "markdown",
   "id": "b5b842f4",
   "metadata": {},
   "source": [
    "### Below are a few examples of evaluating arithmetic expressions in Python"
   ]
  },
  {
   "cell_type": "code",
   "execution_count": 1,
   "id": "2d773553",
   "metadata": {},
   "outputs": [
    {
     "data": {
      "text/plain": [
       "17"
      ]
     },
     "execution_count": 1,
     "metadata": {},
     "output_type": "execute_result"
    }
   ],
   "source": [
    "# This is a simple arithmetic expression to multiply thne add integers\n",
    "(3*4)+5"
   ]
  },
  {
   "cell_type": "code",
   "execution_count": 2,
   "id": "beb95d46",
   "metadata": {},
   "outputs": [
    {
     "name": "stdout",
     "output_type": "stream",
     "text": [
      "3.3333333333333335 hours\n"
     ]
    }
   ],
   "source": [
    "# This will convert 200 minutes to hours by dividing by 60\n",
    "print(200/60, \"hours\")"
   ]
  }
 ],
 "metadata": {
  "kernelspec": {
   "display_name": "Python 3 (ipykernel)",
   "language": "python",
   "name": "python3"
  },
  "language_info": {
   "codemirror_mode": {
    "name": "ipython",
    "version": 3
   },
   "file_extension": ".py",
   "mimetype": "text/x-python",
   "name": "python",
   "nbconvert_exporter": "python",
   "pygments_lexer": "ipython3",
   "version": "3.9.17"
  }
 },
 "nbformat": 4,
 "nbformat_minor": 5
}
